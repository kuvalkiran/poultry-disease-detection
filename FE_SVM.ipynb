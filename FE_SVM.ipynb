{
  "nbformat": 4,
  "nbformat_minor": 0,
  "metadata": {
    "colab": {
      "provenance": []
    },
    "kernelspec": {
      "name": "python3",
      "display_name": "Python 3"
    },
    "language_info": {
      "name": "python"
    }
  },
  "cells": [
    {
      "cell_type": "code",
      "execution_count": null,
      "metadata": {
        "colab": {
          "base_uri": "https://localhost:8080/"
        },
        "id": "1CTIUIMly3d3",
        "outputId": "97d6844b-5486-444b-d73f-8207991a2efd"
      },
      "outputs": [
        {
          "output_type": "stream",
          "name": "stdout",
          "text": [
            "Mounted at /content/mydrive\n"
          ]
        }
      ],
      "source": [
        "#@title Initial imports\n",
        "\n",
        "from google.colab import drive\n",
        "drive.mount('/content/mydrive')\n",
        "import numpy as np\n",
        "import pandas as pd\n",
        "import os\n",
        "from pathlib import Path\n",
        "import os.path\n",
        "import time\n",
        "import matplotlib.pyplot as plt\n",
        "import cv2\n",
        "import seaborn as sns\n",
        "sns.set_style('darkgrid')\n",
        "import shutil\n",
        "from sklearn.metrics import confusion_matrix, classification_report\n",
        "from sklearn.model_selection import train_test_split\n",
        "import tensorflow as tf\n",
        "# from tensorflow import keras\n",
        "from tensorflow.keras.preprocessing.image import ImageDataGenerator\n",
        "from tensorflow.keras.layers import Dense, Activation,Dropout,Conv2D, MaxPooling2D,BatchNormalization\n",
        "from tensorflow.keras.optimizers import Adam, Adamax\n",
        "from tensorflow.keras.metrics import categorical_crossentropy\n",
        "from tensorflow.keras import regularizers\n",
        "from tensorflow.keras.models import Model\n",
        "from IPython.display import Image, display\n",
        "import matplotlib.cm as cm\n",
        "import PIL\n",
        "import logging\n",
        "logging.getLogger(\"tensorflow\").setLevel(logging.ERROR)\n",
        "import warnings\n",
        "pd.set_option('display.max_columns', None)\n",
        "pd.set_option('display.max_rows', 90)\n",
        "warnings.simplefilter(\"ignore\")"
      ]
    },
    {
      "cell_type": "code",
      "source": [
        "#@title Mapping database with classes\n",
        "\n",
        "sdir = # Add path directory to image dataset\n",
        "csvpath = # Add path directory to image annotations\n",
        "df=pd.read_csv(csvpath)\n",
        "df.columns=['filepaths', 'labels' ]\n",
        "df['filepaths']=df['filepaths'].apply(lambda x: os.path.join(sdir,x))\n",
        "print(df.head())\n",
        "\n",
        "trsplit=.9\n",
        "vsplit=.05\n",
        "dsplit =vsplit/(1-trsplit)\n",
        "strat=df['labels']\n",
        "train_df, dummy_df=train_test_split(df, train_size=.9, shuffle=True, random_state=123, stratify=strat)\n",
        "strat=dummy_df['labels']\n",
        "test_df, valid_df=train_test_split(dummy_df, train_size=dsplit, shuffle=True, random_state=123, stratify=strat)\n",
        "print('train_df lenght: ', len(train_df), '  test_df length: ', len(test_df), '  valid_df length: ', len(valid_df))\n",
        "classes=list(train_df['labels'].unique())\n",
        "class_count = len(classes)\n",
        "groups=df.groupby('labels')\n",
        "print('{0:^30s} {1:^13s}'.format('CLASS', 'IMAGE COUNT'))\n",
        "for label in train_df['labels'].unique():\n",
        "      group=groups.get_group(label)\n",
        "      print('{0:^30s} {1:^13s}'.format(label, str(len(group))))"
      ],
      "metadata": {
        "colab": {
          "base_uri": "https://localhost:8080/"
        },
        "id": "oe_6nDMYy5Dn",
        "outputId": "b8f67488-baf5-4b22-f528-f0c11eb11dfd"
      },
      "execution_count": null,
      "outputs": [
        {
          "output_type": "stream",
          "name": "stdout",
          "text": [
            "                                           filepaths              labels\n",
            "0  /content/mydrive/MyDrive/MI/chicken disease im...          Salmonella\n",
            "1  /content/mydrive/MyDrive/MI/chicken disease im...         Coccidiosis\n",
            "2  /content/mydrive/MyDrive/MI/chicken disease im...         Coccidiosis\n",
            "3  /content/mydrive/MyDrive/MI/chicken disease im...          Salmonella\n",
            "4  /content/mydrive/MyDrive/MI/chicken disease im...  New Castle Disease\n",
            "train_df lenght:  7260   test_df length:  403   valid_df length:  404\n",
            "            CLASS               IMAGE COUNT \n",
            "         Coccidiosis               2476     \n",
            "          Salmonella               2625     \n",
            "           Healthy                 2404     \n",
            "      New Castle Disease            562     \n"
          ]
        }
      ]
    },
    {
      "cell_type": "code",
      "source": [
        "#@title Trimming dataset to balance\n",
        "\n",
        "def trim (df, max_size, min_size, column):\n",
        "    df=df.copy()\n",
        "    original_class_count= len(list(df[column].unique()))\n",
        "    print ('Original Number of classes in dataframe: ', original_class_count)\n",
        "    sample_list=[]\n",
        "    groups=df.groupby(column)\n",
        "    for label in df[column].unique():\n",
        "        group=groups.get_group(label)\n",
        "        sample_count=len(group)\n",
        "        if sample_count> max_size :\n",
        "            strat=group[column]\n",
        "            samples,_=train_test_split(group, train_size=max_size, shuffle=True, random_state=123, stratify=strat)\n",
        "            sample_list.append(samples)\n",
        "        elif sample_count>= min_size:\n",
        "            sample_list.append(group)\n",
        "    df=pd.concat(sample_list, axis=0).reset_index(drop=True)\n",
        "    final_class_count= len(list(df[column].unique()))\n",
        "    if final_class_count != original_class_count:\n",
        "        print ('*** WARNING***  dataframe has a reduced number of classes' )\n",
        "    balance=list(df[column].value_counts())\n",
        "    print (balance)\n",
        "    return df\n",
        "\n",
        "max_samples=500\n",
        "min_samples=0\n",
        "column = 'labels'\n",
        "train_df=trim(train_df, max_samples, min_samples, column)\n",
        "img_size=(224,224)\n",
        "working_dir=r'./'"
      ],
      "metadata": {
        "colab": {
          "base_uri": "https://localhost:8080/"
        },
        "id": "aqyyUbfvy8Fw",
        "outputId": "1d2c1ee6-6783-4919-8941-cdbf4e5d65f6"
      },
      "execution_count": null,
      "outputs": [
        {
          "output_type": "stream",
          "name": "stdout",
          "text": [
            "Original Number of classes in dataframe:  4\n",
            "[500, 500, 500, 500]\n"
          ]
        }
      ]
    },
    {
      "cell_type": "code",
      "source": [
        "!pip install mahotas"
      ],
      "metadata": {
        "colab": {
          "base_uri": "https://localhost:8080/"
        },
        "id": "9INmWqeaeYtL",
        "outputId": "44c8a760-a8a6-4298-ff40-378e8363f378"
      },
      "execution_count": null,
      "outputs": [
        {
          "output_type": "stream",
          "name": "stdout",
          "text": [
            "Collecting mahotas\n",
            "  Downloading mahotas-1.4.15-cp310-cp310-manylinux_2_17_x86_64.manylinux2014_x86_64.whl (5.4 MB)\n",
            "\u001b[2K     \u001b[90m━━━━━━━━━━━━━━━━━━━━━━━━━━━━━━━━━━━━━━━━\u001b[0m \u001b[32m5.4/5.4 MB\u001b[0m \u001b[31m28.5 MB/s\u001b[0m eta \u001b[36m0:00:00\u001b[0m\n",
            "\u001b[?25hRequirement already satisfied: numpy in /usr/local/lib/python3.10/dist-packages (from mahotas) (1.25.2)\n",
            "Installing collected packages: mahotas\n",
            "Successfully installed mahotas-1.4.15\n"
          ]
        }
      ]
    },
    {
      "cell_type": "code",
      "source": [
        "#@title Feature Extraction + SVM\n",
        "import mahotas\n",
        "from sklearn.preprocessing import MinMaxScaler\n",
        "from sklearn.svm import SVC\n",
        "\n",
        "# Define feature extraction functions\n",
        "def fd_hu_moments(image):\n",
        "    image = cv2.cvtColor(image, cv2.COLOR_BGR2GRAY)\n",
        "    feature = cv2.HuMoments(cv2.moments(image)).flatten()\n",
        "    return feature\n",
        "\n",
        "def fd_haralick(image):\n",
        "    gray = cv2.cvtColor(image, cv2.COLOR_BGR2GRAY)\n",
        "    haralick = mahotas.features.haralick(gray).mean(axis=0)\n",
        "    return haralick\n",
        "\n",
        "def fd_histogram(image, bins=8):\n",
        "    image = cv2.cvtColor(image, cv2.COLOR_BGR2HSV)\n",
        "    hist  = cv2.calcHist([image], [0, 1, 2], None, [bins, bins, bins], [0, 256, 0, 256, 0, 256])\n",
        "    cv2.normalize(hist, hist)\n",
        "    return hist.flatten()\n",
        "\n",
        "# Extract features from images in the dataset\n",
        "def extract_features(image):\n",
        "    global_feature = np.hstack([fd_histogram(image), fd_haralick(image), fd_hu_moments(image)])\n",
        "    return global_feature\n",
        "\n",
        "train_features = []\n",
        "train_labels = []\n",
        "\n",
        "# Iterate through the training dataset to extract features\n",
        "for image_path, label in zip(train_df['filepaths'], train_df['labels']):\n",
        "    image = cv2.imread(image_path)\n",
        "    features = extract_features(image)\n",
        "    train_features.append(features)\n",
        "    train_labels.append(label)\n",
        "\n",
        "# Normalize the extracted features\n",
        "scaler = MinMaxScaler(feature_range=(0, 1))\n",
        "train_features_normalized = scaler.fit_transform(train_features)\n",
        "\n",
        "# Train the classifier (SVM)\n",
        "clf = SVC(random_state=9)\n",
        "clf.fit(train_features_normalized, train_labels)\n",
        "\n",
        "# Calculate accuracy on the training set\n",
        "train_accuracy = clf.score(train_features_normalized, train_labels)\n",
        "print(\"Training Accuracy:\", train_accuracy)\n",
        "test_features = []\n",
        "\n",
        "# Iterate through the test dataset to extract features\n",
        "for image_path in test_df['filepaths']:\n",
        "    image = cv2.imread(image_path)\n",
        "    features = extract_features(image)\n",
        "    test_features.append(features)\n",
        "\n",
        "# Normalize the test features\n",
        "test_features_normalized = scaler.transform(test_features)\n",
        "\n",
        "# Make predictions on the test set\n",
        "test_predictions = clf.predict(test_features_normalized)\n",
        "\n",
        "# Calculate accuracy on the test set\n",
        "test_accuracy = clf.score(test_features_normalized, test_df['labels'])\n",
        "print(\"Testing Accuracy:\", test_accuracy)\n",
        "\n",
        "# Similarly, you can calculate accuracy on the validation set\n",
        "valid_features = []\n",
        "\n",
        "# Iterate through the validation dataset to extract features\n",
        "for image_path in valid_df['filepaths']:\n",
        "    image = cv2.imread(image_path)\n",
        "    features = extract_features(image)\n",
        "    valid_features.append(features)\n",
        "\n",
        "# Normalize the validation features\n",
        "valid_features_normalized = scaler.transform(valid_features)\n",
        "\n",
        "# Make predictions on the validation set\n",
        "valid_predictions = clf.predict(valid_features_normalized)\n",
        "\n",
        "# Calculate accuracy on the validation set\n",
        "valid_accuracy = clf.score(valid_features_normalized, valid_df['labels'])\n",
        "print(\"Validation Accuracy:\", valid_accuracy)\n",
        "\n",
        "from sklearn.metrics import precision_score, recall_score, f1_score\n",
        "\n",
        "# Calculate precision, recall, and F1 score for test set\n",
        "precision_test = precision_score(test_df['labels'], test_predictions, average='weighted')\n",
        "recall_test = recall_score(test_df['labels'], test_predictions, average='weighted')\n",
        "f1_test = f1_score(test_df['labels'], test_predictions, average='weighted')\n",
        "\n",
        "print(\"Test Set Metrics:\")\n",
        "print(\"Precision:\", precision_test)\n",
        "print(\"Recall:\", recall_test)\n",
        "print(\"F1 Score:\", f1_test)\n"
      ],
      "metadata": {
        "colab": {
          "base_uri": "https://localhost:8080/"
        },
        "id": "M_YeSVvOzEVy",
        "outputId": "73969694-cead-4d94-fc2b-c2882cc98f40"
      },
      "execution_count": null,
      "outputs": [
        {
          "output_type": "stream",
          "name": "stdout",
          "text": [
            "Training Accuracy: 0.842\n",
            "Testing Accuracy: 0.8337468982630273\n",
            "Validation Accuracy: 0.8316831683168316\n",
            "Test Set Metrics:\n",
            "Precision: 0.8505114514331105\n",
            "Recall: 0.8337468982630273\n",
            "F1 Score: 0.8361396432223756\n"
          ]
        }
      ]
    }
  ]
}