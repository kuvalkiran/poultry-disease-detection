{
  "nbformat": 4,
  "nbformat_minor": 0,
  "metadata": {
    "colab": {
      "provenance": []
    },
    "kernelspec": {
      "name": "python3",
      "display_name": "Python 3"
    },
    "language_info": {
      "name": "python"
    }
  },
  "cells": [
    {
      "cell_type": "code",
      "execution_count": null,
      "metadata": {
        "colab": {
          "base_uri": "https://localhost:8080/"
        },
        "id": "qOuADMtCkkHM",
        "outputId": "d61fda3e-dc96-4882-a008-bfab59ede158"
      },
      "outputs": [
        {
          "output_type": "stream",
          "name": "stdout",
          "text": [
            "Mounted at /content/mydrive\n"
          ]
        }
      ],
      "source": [
        "#@title Initial imports\n",
        "\n",
        "from google.colab import drive\n",
        "drive.mount('/content/mydrive')\n",
        "import numpy as np\n",
        "import pandas as pd\n",
        "import os\n",
        "from pathlib import Path\n",
        "import os.path\n",
        "import time\n",
        "import matplotlib.pyplot as plt\n",
        "import cv2\n",
        "import seaborn as sns\n",
        "sns.set_style('darkgrid')\n",
        "import shutil\n",
        "from sklearn.metrics import confusion_matrix, classification_report\n",
        "from sklearn.model_selection import train_test_split\n",
        "import tensorflow as tf\n",
        "# from tensorflow import keras\n",
        "from tensorflow.keras.preprocessing.image import ImageDataGenerator\n",
        "from tensorflow.keras.layers import Dense, Activation,Dropout,Conv2D, MaxPooling2D,BatchNormalization\n",
        "from tensorflow.keras.optimizers import Adam, Adamax\n",
        "from tensorflow.keras.metrics import categorical_crossentropy\n",
        "from tensorflow.keras import regularizers\n",
        "from tensorflow.keras.models import Model\n",
        "from IPython.display import Image, display\n",
        "import matplotlib.cm as cm\n",
        "import PIL\n",
        "import logging\n",
        "logging.getLogger(\"tensorflow\").setLevel(logging.ERROR)\n",
        "import warnings\n",
        "pd.set_option('display.max_columns', None)\n",
        "pd.set_option('display.max_rows', 90)\n",
        "warnings.simplefilter(\"ignore\")"
      ]
    },
    {
      "cell_type": "code",
      "source": [
        "#@title Mapping database with classes\n",
        "\n",
        "sdir = # Add path directory to image dataset\n",
        "csvpath = # Add path directory to image annotations\n",
        "df=pd.read_csv(csvpath)\n",
        "df.columns=['filepaths', 'labels' ]\n",
        "df['filepaths']=df['filepaths'].apply(lambda x: os.path.join(sdir,x))\n",
        "print(df.head())\n",
        "\n",
        "trsplit=.9\n",
        "vsplit=.05\n",
        "dsplit =vsplit/(1-trsplit)\n",
        "strat=df['labels']\n",
        "train_df, dummy_df=train_test_split(df, train_size=.9, shuffle=True, random_state=123, stratify=strat)\n",
        "strat=dummy_df['labels']\n",
        "test_df, valid_df=train_test_split(dummy_df, train_size=dsplit, shuffle=True, random_state=123, stratify=strat)\n",
        "print('train_df length:', len(train_df), '  test_df length:', len(test_df), '  valid_df length:', len(valid_df))\n",
        "classes=list(train_df['labels'].unique())\n",
        "class_count = len(classes)\n",
        "groups=df.groupby('labels')\n",
        "print('{0:^30s} {1:^13s}'.format('CLASS', 'IMAGE COUNT'))\n",
        "for label in train_df['labels'].unique():\n",
        "    group=groups.get_group(label)\n",
        "    print('{0:^30s} {1:^13s}'.format(label, str(len(group))))"
      ],
      "metadata": {
        "colab": {
          "base_uri": "https://localhost:8080/"
        },
        "id": "muy4z49QkpgM",
        "outputId": "e7f10753-5613-45c8-c09b-cd05ed91e5bc"
      },
      "execution_count": null,
      "outputs": [
        {
          "output_type": "stream",
          "name": "stdout",
          "text": [
            "                                           filepaths              labels\n",
            "0  /content/mydrive/MyDrive/MI Project/Train/salm...          Salmonella\n",
            "1  /content/mydrive/MyDrive/MI Project/Train/cocc...         Coccidiosis\n",
            "2  /content/mydrive/MyDrive/MI Project/Train/cocc...         Coccidiosis\n",
            "3  /content/mydrive/MyDrive/MI Project/Train/salm...          Salmonella\n",
            "4  /content/mydrive/MyDrive/MI Project/Train/ncd....  New Castle Disease\n",
            "train_df length: 7260   test_df length: 403   valid_df length: 404\n",
            "            CLASS               IMAGE COUNT \n",
            "         Coccidiosis               2476     \n",
            "          Salmonella               2625     \n",
            "           Healthy                 2404     \n",
            "      New Castle Disease            562     \n"
          ]
        }
      ]
    },
    {
      "cell_type": "code",
      "source": [
        "#@title Trimming dataset to balance\n",
        "\n",
        "def trim(df, max_size, min_size, column):\n",
        "    df=df.copy()\n",
        "    original_class_count= len(list(df[column].unique()))\n",
        "    print ('Original Number of classes in dataframe:', original_class_count)\n",
        "    sample_list=[]\n",
        "    groups=df.groupby(column)\n",
        "    for label in df[column].unique():\n",
        "        group=groups.get_group(label)\n",
        "        sample_count=len(group)\n",
        "        if sample_count> max_size:\n",
        "            strat=group[column]\n",
        "            samples,_=train_test_split(group, train_size=max_size, shuffle=True, random_state=123, stratify=strat)\n",
        "            sample_list.append(samples)\n",
        "        elif sample_count>= min_size:\n",
        "            sample_list.append(group)\n",
        "    df=pd.concat(sample_list, axis=0).reset_index(drop=True)\n",
        "    final_class_count= len(list(df[column].unique()))\n",
        "    if final_class_count != original_class_count:\n",
        "        print ('*** WARNING ***  dataframe has a reduced number of classes' )\n",
        "    balance=list(df[column].value_counts())\n",
        "    print(balance)\n",
        "    return df\n",
        "\n",
        "max_samples=500\n",
        "min_samples=0\n",
        "column = 'labels'\n",
        "train_df=trim(train_df, max_samples, min_samples, column)\n",
        "img_size=(224,224)\n",
        "working_dir=r'./'"
      ],
      "metadata": {
        "colab": {
          "base_uri": "https://localhost:8080/"
        },
        "id": "LHL7KjZMkzgR",
        "outputId": "ce33307a-59a3-4701-b90c-ba40dc358969"
      },
      "execution_count": null,
      "outputs": [
        {
          "output_type": "stream",
          "name": "stdout",
          "text": [
            "Original Number of classes in dataframe: 4\n",
            "[500, 500, 500, 500]\n"
          ]
        }
      ]
    },
    {
      "cell_type": "code",
      "source": [
        "!pip install mahotas"
      ],
      "metadata": {
        "colab": {
          "base_uri": "https://localhost:8080/"
        },
        "id": "d-3iWPjRlN1e",
        "outputId": "d4b8372e-8a47-4405-990b-8896bf2a885b"
      },
      "execution_count": null,
      "outputs": [
        {
          "output_type": "stream",
          "name": "stdout",
          "text": [
            "Collecting mahotas\n",
            "  Downloading mahotas-1.4.15-cp310-cp310-manylinux_2_17_x86_64.manylinux2014_x86_64.whl (5.4 MB)\n",
            "\u001b[2K     \u001b[90m━━━━━━━━━━━━━━━━━━━━━━━━━━━━━━━━━━━━━━━━\u001b[0m \u001b[32m5.4/5.4 MB\u001b[0m \u001b[31m16.9 MB/s\u001b[0m eta \u001b[36m0:00:00\u001b[0m\n",
            "\u001b[?25hRequirement already satisfied: numpy in /usr/local/lib/python3.10/dist-packages (from mahotas) (1.25.2)\n",
            "Installing collected packages: mahotas\n",
            "Successfully installed mahotas-1.4.15\n"
          ]
        }
      ]
    },
    {
      "cell_type": "code",
      "source": [
        "#@title Feature Extraction\n",
        "# Define feature extraction functions\n",
        "import mahotas\n",
        "def fd_hu_moments(image):\n",
        "    image = cv2.cvtColor(image, cv2.COLOR_BGR2GRAY)\n",
        "    feature = cv2.HuMoments(cv2.moments(image)).flatten()\n",
        "    return feature\n",
        "\n",
        "def fd_haralick(image):\n",
        "    gray = cv2.cvtColor(image, cv2.COLOR_BGR2GRAY)\n",
        "    haralick = mahotas.features.haralick(gray).mean(axis=0)\n",
        "    return haralick\n",
        "\n",
        "def fd_histogram(image, bins=8):\n",
        "    image = cv2.cvtColor(image, cv2.COLOR_BGR2HSV)\n",
        "    hist  = cv2.calcHist([image], [0, 1, 2], None, [bins, bins, bins], [0, 256, 0, 256, 0, 256])\n",
        "    cv2.normalize(hist, hist)\n",
        "    return hist.flatten()"
      ],
      "metadata": {
        "id": "pU2TXK424jNd"
      },
      "execution_count": null,
      "outputs": []
    },
    {
      "cell_type": "code",
      "source": [
        "#@title Random Forest\n",
        "from sklearn.preprocessing import MinMaxScaler\n",
        "from sklearn.ensemble import RandomForestClassifier\n",
        "\n",
        "# Extract features from images in the dataset\n",
        "def extract_features(image):\n",
        "    global_feature = np.hstack([fd_histogram(image), fd_haralick(image), fd_hu_moments(image)])\n",
        "    return global_feature\n",
        "\n",
        "train_features = []\n",
        "train_labels = []\n",
        "# Iterate through the training dataset to extract features\n",
        "for image_path, label in zip(train_df['filepaths'], train_df['labels']):\n",
        "    image = cv2.imread(image_path)\n",
        "    features = extract_features(image)\n",
        "    train_features.append(features)\n",
        "    train_labels.append(label)\n",
        "\n",
        "# Normalize the extracted features\n",
        "scaler = MinMaxScaler(feature_range=(0, 1))\n",
        "train_features_normalized = scaler.fit_transform(train_features)\n",
        "\n",
        "# Train the Random Forest classifier\n",
        "rf_clf = RandomForestClassifier(n_estimators=100, random_state=9)\n",
        "rf_clf.fit(train_features_normalized, train_labels)\n",
        "\n",
        "# Calculate accuracy on the training set\n",
        "train_accuracy_rf = rf_clf.score(train_features_normalized, train_labels)\n",
        "print(\"Training Accuracy (Random Forest):\", train_accuracy_rf)\n",
        "\n",
        "test_features = []\n",
        "\n",
        "for image_path in test_df['filepaths']:\n",
        "    image = cv2.imread(image_path)\n",
        "    features = extract_features(image)\n",
        "    test_features.append(features)\n",
        "\n",
        "# Normalize the test features\n",
        "test_features_normalized = scaler.transform(test_features)\n",
        "\n",
        "# Make predictions on the test set\n",
        "test_predictions_rf = rf_clf.predict(test_features_normalized)\n",
        "\n",
        "# Calculate accuracy on the test set\n",
        "test_accuracy_rf = rf_clf.score(test_features_normalized, test_df['labels'])\n",
        "print(\"Testing Accuracy (Random Forest):\", test_accuracy_rf)\n",
        "\n",
        "\n",
        "valid_features = []\n",
        "for image_path in valid_df['filepaths']:\n",
        "    image = cv2.imread(image_path)\n",
        "    features = extract_features(image)\n",
        "    valid_features.append(features)\n",
        "\n",
        "# Normalize the validation features\n",
        "valid_features_normalized = scaler.transform(valid_features)\n",
        "\n",
        "# Make predictions on the validation set\n",
        "valid_predictions_rf = rf_clf.predict(valid_features_normalized)\n",
        "\n",
        "# Calculate accuracy on the validation set\n",
        "valid_accuracy_rf = rf_clf.score(valid_features_normalized, valid_df['labels'])\n",
        "print(\"Validation Accuracy (Random Forest):\", valid_accuracy_rf)\n",
        "\n",
        "from sklearn.metrics import precision_score, recall_score, f1_score\n",
        "\n",
        "# Calculate precision, recall, and f1-score on the test set\n",
        "precision_rf = precision_score(test_df['labels'], test_predictions_rf, average='weighted')\n",
        "recall_rf = recall_score(test_df['labels'], test_predictions_rf, average='weighted')\n",
        "f1_rf = f1_score(test_df['labels'], test_predictions_rf, average='weighted')\n",
        "\n",
        "print(\"Precision (Random Forest):\", precision_rf)\n",
        "print(\"Recall (Random Forest):\", recall_rf)\n",
        "print(\"F1 Score (Random Forest):\", f1_rf)"
      ],
      "metadata": {
        "colab": {
          "base_uri": "https://localhost:8080/"
        },
        "id": "o_bZ9mDVk6fR",
        "outputId": "ed20feda-60e0-4727-da90-8f78f92a0e9c"
      },
      "execution_count": null,
      "outputs": [
        {
          "output_type": "stream",
          "name": "stdout",
          "text": [
            "Training Accuracy (Random Forest): 0.9995\n",
            "Testing Accuracy (Random Forest): 0.8833746898263027\n",
            "Validation Accuracy (Random Forest): 0.900990099009901\n",
            "Precision (Random Forest): 0.8946658547398896\n",
            "Recall (Random Forest): 0.8833746898263027\n",
            "F1 Score (Random Forest): 0.885954577799786\n"
          ]
        }
      ]
    },
    {
      "cell_type": "code",
      "source": [
        "#@title KNN\n",
        "from sklearn.neighbors import KNeighborsClassifier\n",
        "from sklearn.preprocessing import StandardScaler\n",
        "\n",
        "# Extract features from images in the dataset\n",
        "def extract_features(image):\n",
        "    global_feature = np.hstack([fd_histogram(image), fd_haralick(image), fd_hu_moments(image)])\n",
        "    return global_feature\n",
        "\n",
        "# Extract features from images in the dataset\n",
        "train_features = []\n",
        "train_labels = []\n",
        "for image_path, label in zip(train_df['filepaths'], train_df['labels']):\n",
        "    image = cv2.imread(image_path)\n",
        "    features = extract_features(image)\n",
        "    train_features.append(features)\n",
        "    train_labels.append(label)\n",
        "\n",
        "# Normalize features\n",
        "scaler = StandardScaler()\n",
        "train_features_normalized = scaler.fit_transform(train_features)\n",
        "\n",
        "# Initialize KNN classifier\n",
        "knn_clf = KNeighborsClassifier(n_neighbors=5)  # You can adjust the number of neighbors (k)\n",
        "knn_clf.fit(train_features_normalized, train_labels)\n",
        "\n",
        "# Calculate training accuracy\n",
        "train_accuracy_knn = knn_clf.score(train_features_normalized, train_labels)\n",
        "print(\"Training Accuracy (KNN):\", train_accuracy_knn)\n",
        "\n",
        "# Predict labels for validation images\n",
        "valid_features = []\n",
        "valid_labels = []\n",
        "for image_path, label in zip(valid_df['filepaths'], valid_df['labels']):\n",
        "    image = cv2.imread(image_path)\n",
        "    features = extract_features(image)\n",
        "    valid_features.append(features)\n",
        "    valid_labels.append(label)\n",
        "\n",
        "# Normalize validation features\n",
        "valid_features_normalized = scaler.transform(valid_features)\n",
        "\n",
        "# Make predictions on validation set\n",
        "valid_predictions_knn = knn_clf.predict(valid_features_normalized)\n",
        "\n",
        "# Calculate validation accuracy\n",
        "valid_accuracy_knn = knn_clf.score(valid_features_normalized, valid_labels)\n",
        "print(\"Validation Accuracy (KNN):\", valid_accuracy_knn)\n",
        "\n",
        "# Predict labels for test images\n",
        "test_features = []\n",
        "for image_path in test_df['filepaths']:\n",
        "    image = cv2.imread(image_path)\n",
        "    features = extract_features(image)\n",
        "    test_features.append(features)\n",
        "\n",
        "# Normalize test features\n",
        "test_features_normalized = scaler.transform(test_features)\n",
        "\n",
        "# Make predictions on test set\n",
        "test_predictions_knn = knn_clf.predict(test_features_normalized)\n",
        "\n",
        "# Calculate testing accuracy\n",
        "test_accuracy_knn = knn_clf.score(test_features_normalized, test_df['labels'])\n",
        "print(\"Testing Accuracy (KNN):\", test_accuracy_knn)\n",
        "\n",
        "from sklearn.metrics import precision_score, recall_score, f1_score\n",
        "\n",
        "# Calculate precision, recall, and f1-score on the validation set\n",
        "precision_knn = precision_score(valid_labels, valid_predictions_knn, average='weighted')\n",
        "recall_knn = recall_score(valid_labels, valid_predictions_knn, average='weighted')\n",
        "f1_knn = f1_score(valid_labels, valid_predictions_knn, average='weighted')\n",
        "\n",
        "print(\"Precision (KNN):\", precision_knn)\n",
        "print(\"Recall (KNN):\", recall_knn)\n",
        "print(\"F1 Score (KNN):\", f1_knn)\n"
      ],
      "metadata": {
        "colab": {
          "base_uri": "https://localhost:8080/"
        },
        "id": "RlJD4BstyfOA",
        "outputId": "bb6396ed-7dd3-4c37-d9e9-2daffc763526"
      },
      "execution_count": null,
      "outputs": [
        {
          "output_type": "stream",
          "name": "stdout",
          "text": [
            "Training Accuracy (KNN): 0.8825\n",
            "Validation Accuracy (KNN): 0.8514851485148515\n",
            "Testing Accuracy (KNN): 0.8287841191066998\n",
            "Precision (KNN): 0.8679210020683934\n",
            "Recall (KNN): 0.8514851485148515\n",
            "F1 Score (KNN): 0.8560162390173869\n"
          ]
        }
      ]
    }
  ]
}